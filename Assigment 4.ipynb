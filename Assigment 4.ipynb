{
 "cells": [
  {
   "cell_type": "code",
   "execution_count": 1,
   "id": "309f6b34",
   "metadata": {},
   "outputs": [],
   "source": [
    "#Write a Python program to loop through all the elements in a list"
   ]
  },
  {
   "cell_type": "code",
   "execution_count": 2,
   "id": "caabf950",
   "metadata": {},
   "outputs": [
    {
     "name": "stdout",
     "output_type": "stream",
     "text": [
      "enter your value: 's',1,'#'\n",
      "[\"'s',1,'#'\"]\n",
      "'s',1,'#'\n"
     ]
    }
   ],
   "source": [
    "List=[]\n",
    "y=input('enter your value: ')\n",
    "List.append(y)\n",
    "print(List)\n",
    "for x in List:\n",
    "    print(x)"
   ]
  },
  {
   "cell_type": "code",
   "execution_count": 2,
   "id": "4441d2d8",
   "metadata": {},
   "outputs": [],
   "source": [
    "#Write a Python program where you will ask the users to insert elements in a list"
   ]
  },
  {
   "cell_type": "code",
   "execution_count": 14,
   "id": "58b3f207",
   "metadata": {},
   "outputs": [
    {
     "name": "stdout",
     "output_type": "stream",
     "text": [
      "enter your range: 4\n",
      "enter your value: 5\n",
      "enter your value: 78\n",
      "enter your value: 1\n",
      "enter your value: 83\n",
      "[5, 78, 1, 83]\n"
     ]
    }
   ],
   "source": [
    "a=[]\n",
    "n=int(input('enter your range: '))\n",
    "for x in range(n):\n",
    "    s=int(input('enter your value: '))\n",
    "    a.append(s)\n",
    "print(a)"
   ]
  },
  {
   "cell_type": "code",
   "execution_count": 3,
   "id": "c97bf795",
   "metadata": {},
   "outputs": [],
   "source": [
    "#Write a Python program to remove all the odd index value from a list and only even index elements should remain"
   ]
  },
  {
   "cell_type": "code",
   "execution_count": null,
   "id": "56b776da",
   "metadata": {},
   "outputs": [],
   "source": []
  },
  {
   "cell_type": "code",
   "execution_count": null,
   "id": "0de8fade",
   "metadata": {},
   "outputs": [],
   "source": [
    "#Write a Python program to sum and multiply all the items in a list"
   ]
  },
  {
   "cell_type": "code",
   "execution_count": 3,
   "id": "1942019f",
   "metadata": {},
   "outputs": [
    {
     "name": "stdout",
     "output_type": "stream",
     "text": [
      "enter your range: 5\n",
      "enter your value: 2\n",
      "enter your value: 6\n",
      "enter your value: 2\n",
      "enter your value: 8\n",
      "enter your value: 9\n",
      "[2, 6, 2, 8, 9]\n",
      "sum1:  27\n",
      "product 1728\n"
     ]
    }
   ],
   "source": [
    "a=[]\n",
    "n=int(input('enter your range: '))\n",
    "for x in range(n):\n",
    "    s=int(input('enter your value: '))\n",
    "    a.append(s)\n",
    "print(a)\n",
    "sum1=0\n",
    "product=1\n",
    "for y in a:\n",
    "    sum1=sum1+y\n",
    "    product=product*y\n",
    "print('sum1: ',sum1)\n",
    "print('product',product)"
   ]
  },
  {
   "cell_type": "code",
   "execution_count": 5,
   "id": "490d61ac",
   "metadata": {},
   "outputs": [],
   "source": [
    "#Write a Python program to get the maximum and minimum numbers from a list"
   ]
  },
  {
   "cell_type": "code",
   "execution_count": 5,
   "id": "97ade8b0",
   "metadata": {},
   "outputs": [
    {
     "name": "stdout",
     "output_type": "stream",
     "text": [
      "enter your range: 4\n",
      "enter your value: 5\n",
      "enter your value: 7\n",
      "enter your value: 8\n",
      "enter your value: 2\n",
      "Max element :  8\n",
      "Min element :  2\n"
     ]
    }
   ],
   "source": [
    "a=[]\n",
    "n=int(input('enter your range: '))\n",
    "for x in range(n):\n",
    "    s=int(input('enter your value: '))\n",
    "    a.append(s)\n",
    "max=a[0]\n",
    "for i in range(0,n):\n",
    "    if a[i]>max :\n",
    "        max=a[i]\n",
    "print(\"Max element : \",max)\n",
    "min=a[0]\n",
    "for i in range(0,n):\n",
    "    if a[i]<min :\n",
    "        min=a[i]\n",
    "print(\"Min element : \",min)\n",
    "    "
   ]
  },
  {
   "cell_type": "code",
   "execution_count": null,
   "id": "cb097857",
   "metadata": {},
   "outputs": [],
   "source": []
  },
  {
   "cell_type": "code",
   "execution_count": null,
   "id": "f6ad55fc",
   "metadata": {},
   "outputs": [],
   "source": []
  },
  {
   "cell_type": "code",
   "execution_count": 6,
   "id": "5733fb03",
   "metadata": {},
   "outputs": [],
   "source": [
    " #Write a Python program to convert a list of characters into a string"
   ]
  },
  {
   "cell_type": "code",
   "execution_count": 14,
   "id": "77b72aa9",
   "metadata": {},
   "outputs": [
    {
     "name": "stdout",
     "output_type": "stream",
     "text": [
      "enter your string: deepu\n",
      "['deepu', 'deepu', 'deepu', 'deepu', 'deepu']\n"
     ]
    }
   ],
   "source": [
    "x=[]\n",
    "s=(input('enter your string: '))\n",
    "for y in s:\n",
    "    x.append(s)\n",
    "print(list(x))"
   ]
  },
  {
   "cell_type": "code",
   "execution_count": 7,
   "id": "48b1d819",
   "metadata": {},
   "outputs": [],
   "source": [
    "#Write a Python program to compute average of given lists."
   ]
  },
  {
   "cell_type": "code",
   "execution_count": 10,
   "id": "85e5e93f",
   "metadata": {},
   "outputs": [
    {
     "name": "stdout",
     "output_type": "stream",
     "text": [
      "enter your number: 4\n",
      "enter your list of elements: 2\n",
      "enter your list of elements: 6\n",
      "enter your list of elements: 7\n",
      "enter your list of elements: 9\n",
      "average:  6.0\n"
     ]
    }
   ],
   "source": [
    "x=[]\n",
    "n=int(input('enter your number: '))\n",
    "for y in range(n):\n",
    "    s=int(input('enter your list of elements: '))\n",
    "    x.append(s)\n",
    "a=0\n",
    "for b in x:\n",
    "    a=a+b\n",
    "print('average: ',a/n)"
   ]
  },
  {
   "cell_type": "code",
   "execution_count": null,
   "id": "1508ba14",
   "metadata": {},
   "outputs": [],
   "source": []
  },
  {
   "cell_type": "code",
   "execution_count": null,
   "id": "dc74fcc9",
   "metadata": {},
   "outputs": [],
   "source": []
  },
  {
   "cell_type": "code",
   "execution_count": 9,
   "id": "dc8671cb",
   "metadata": {},
   "outputs": [],
   "source": [
    "#Write a Python program to reverse the list"
   ]
  },
  {
   "cell_type": "code",
   "execution_count": 15,
   "id": "0b9221e6",
   "metadata": {},
   "outputs": [
    {
     "name": "stdout",
     "output_type": "stream",
     "text": [
      "enter your list: deepu\n"
     ]
    },
    {
     "data": {
      "text/plain": [
       "'upeed'"
      ]
     },
     "execution_count": 15,
     "metadata": {},
     "output_type": "execute_result"
    }
   ],
   "source": [
    "List=input('enter your list: ')\n",
    "list(List)\n",
    "List[::-1]"
   ]
  },
  {
   "cell_type": "code",
   "execution_count": 10,
   "id": "51127831",
   "metadata": {},
   "outputs": [
    {
     "name": "stdout",
     "output_type": "stream",
     "text": [
      "Enter a string :deepthi\n"
     ]
    },
    {
     "data": {
      "text/plain": [
       "('d', 'e', 'e', 'p', 't', 'h', 'i')"
      ]
     },
     "execution_count": 10,
     "metadata": {},
     "output_type": "execute_result"
    }
   ],
   "source": [
    "#Write a Python program convert a given string to a tuple\n",
    "x=input(\"Enter a string :\")\n",
    "tuple((x))"
   ]
  },
  {
   "cell_type": "code",
   "execution_count": null,
   "id": "39a917ac",
   "metadata": {},
   "outputs": [],
   "source": []
  },
  {
   "cell_type": "code",
   "execution_count": null,
   "id": "88f8e1c4",
   "metadata": {},
   "outputs": [],
   "source": []
  }
 ],
 "metadata": {
  "kernelspec": {
   "display_name": "Python 3 (ipykernel)",
   "language": "python",
   "name": "python3"
  },
  "language_info": {
   "codemirror_mode": {
    "name": "ipython",
    "version": 3
   },
   "file_extension": ".py",
   "mimetype": "text/x-python",
   "name": "python",
   "nbconvert_exporter": "python",
   "pygments_lexer": "ipython3",
   "version": "3.9.7"
  }
 },
 "nbformat": 4,
 "nbformat_minor": 5
}
